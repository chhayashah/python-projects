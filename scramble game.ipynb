{
 "cells": [
  {
   "cell_type": "code",
   "execution_count": 1,
   "id": "73f9d88f",
   "metadata": {},
   "outputs": [],
   "source": [
    "import tkinter as tk\n",
    "import random\n",
    "\n",
    "# Define the list of words to be scrambled\n",
    "list = ['python', 'java', 'ruby', 'javascript', 'csharp','react']\n",
    "\n",
    "# Pick a random word from the list\n",
    "word = random.choice(words)\n",
    "\n",
    "# Shuffle the letters of the word\n",
    "scrambled_word = list(word)\n",
    "random.shuffle(scrambled_word)\n",
    "scrambled_word = ''.join(scrambled_word)\n",
    "\n",
    "\n",
    "def check_guess():\n",
    "    guess = guess_entry.get()\n",
    "    if guess == word:\n",
    "        result_label.config(text=\"You win!\")\n",
    "    else:\n",
    "        result_label.config(text=\"Try again.\")\n",
    "\n",
    "# Set up the tkinter window\n",
    "window = tk.Tk()\n",
    "window.title(\"Scramble Game\")\n",
    "\n",
    "# Create the widgets\n",
    "scramble_label = tk.Label(window, text=scrambled_word, font=(\"Arial\", 20))\n",
    "guess_entry = tk.Entry(window, font=(\"Arial\", 20))\n",
    "submit_button = tk.Button(window, text=\"Submit\", command=check_guess)\n",
    "result_label = tk.Label(window, font=(\"Arial\", 20))\n",
    "\n",
    "# Add the widgets to the window\n",
    "scramble_label.pack(pady=10)\n",
    "guess_entry.pack(pady=10)\n",
    "submit_button.pack(pady=10)\n",
    "result_label.pack(pady=10)\n",
    "\n",
    "# Start the tkinter event loop\n",
    "window.mainloop()\n"
   ]
  },
  {
   "cell_type": "code",
   "execution_count": null,
   "id": "285ddaa7",
   "metadata": {},
   "outputs": [],
   "source": []
  }
 ],
 "metadata": {
  "kernelspec": {
   "display_name": "Python 3 (ipykernel)",
   "language": "python",
   "name": "python3"
  },
  "language_info": {
   "codemirror_mode": {
    "name": "ipython",
    "version": 3
   },
   "file_extension": ".py",
   "mimetype": "text/x-python",
   "name": "python",
   "nbconvert_exporter": "python",
   "pygments_lexer": "ipython3",
   "version": "3.10.5"
  }
 },
 "nbformat": 4,
 "nbformat_minor": 5
}
